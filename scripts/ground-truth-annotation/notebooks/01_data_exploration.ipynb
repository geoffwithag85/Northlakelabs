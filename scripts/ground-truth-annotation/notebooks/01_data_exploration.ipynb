{
 "cells": [
  {
   "cell_type": "markdown",
   "metadata": {},
   "source": [
    "# Data Exploration - Constrained Gait Analysis\n",
    "\n",
    "This notebook explores the T5 trial data to understand the multi-modal sensor characteristics and constrained gait patterns.\n",
    "\n",
    "## Objective\n",
    "- Understand data structure and sampling rates\n",
    "- Visualize constrained gait patterns (left leg locked in extension)\n",
    "- Identify key signals for ground truth annotation"
   ]
  },
  {
   "cell_type": "code",
   "execution_count": null,
   "metadata": {},
   "outputs": [],
   "source": [
    "# Setup and imports\n",
    "import sys\n",
    "sys.path.append('../src')\n",
    "\n",
    "import pandas as pd\n",
    "import numpy as np\n",
    "import matplotlib.pyplot as plt\n",
    "import seaborn as sns\n",
    "\n",
    "from data_loader import GaitDataLoader\n",
    "from synchronizer import MultiModalSynchronizer, compute_emg_envelopes\n",
    "from visualizer import create_constrained_gait_plot\n",
    "\n",
    "# Configure plotting\n",
    "plt.style.use('seaborn-v0_8-whitegrid')\n",
    "plt.rcParams['figure.figsize'] = (12, 8)\n",
    "\n",
    "print(\"Environment setup complete!\")"
   ]
  },
  {
   "cell_type": "markdown",
   "metadata": {},
   "source": [
    "## 1. Load Raw Data"
   ]
  },
  {
   "cell_type": "code",
   "execution_count": null,
   "metadata": {},
   "outputs": [],
   "source": [
    "# Initialize data loader\n",
    "loader = GaitDataLoader(data_dir=\"../data\")\n",
    "\n",
    "# Load T5 trial data\n",
    "trial_id = \"T5\"\n",
    "raw_data = loader.load_all_modalities(trial_id)\n",
    "\n",
    "print(f\"Loaded data for trial {trial_id}\")\n",
    "print(\"\\nData modalities:\")\n",
    "for modality, df in raw_data.items():\n",
    "    print(f\"  {modality}: {len(df)} samples, {df['time'].max():.1f}s duration\")\n",
    "    print(f\"    Columns: {list(df.columns[:10])}{'...' if len(df.columns) > 10 else ''}\")\n",
    "    print()"
   ]
  },
  {
   "cell_type": "markdown",
   "metadata": {},
   "source": [
    "## 2. Data Synchronization"
   ]
  },
  {
   "cell_type": "code",
   "execution_count": null,
   "metadata": {},
   "outputs": [],
   "source": [
    "# Synchronize all modalities to 1000 Hz\n",
    "synchronizer = MultiModalSynchronizer(target_rate=1000)\n",
    "synchronized_data = synchronizer.synchronize_all_modalities(raw_data)\n",
    "\n",
    "print(\"Data synchronized to 1000 Hz\")\n",
    "print(\"\\nSynchronized data:\")\n",
    "for modality, df in synchronized_data.items():\n",
    "    print(f\"  {modality}: {len(df)} samples, {df['time'].max():.1f}s duration\")\n",
    "    print(f\"    Sampling rate: {len(df) / df['time'].max():.0f} Hz\")\n",
    "    print()"
   ]
  },
  {
   "cell_type": "markdown",
   "metadata": {},
   "source": [
    "## 3. Force Plate Analysis"
   ]
  },
  {
   "cell_type": "code",
   "execution_count": null,
   "metadata": {},
   "outputs": [],
   "source": [
    "# Analyze force plate data\n",
    "kinetics = synchronized_data['kinetics']\n",
    "\n",
    "# Plot force plates\n",
    "fig, axes = plt.subplots(2, 1, figsize=(15, 8))\n",
    "\n",
    "# Full duration view\n",
    "time = kinetics['time']\n",
    "axes[0].plot(time, kinetics['Fz'], label='Left Force Plate', color='blue', alpha=0.7)\n",
    "axes[0].plot(time, kinetics['Fz.1'], label='Right Force Plate', color='red', alpha=0.7)\n",
    "axes[0].set_ylabel('Vertical Force (N)')\n",
    "axes[0].set_title('Force Plates - Full Duration')\n",
    "axes[0].legend()\n",
    "axes[0].grid(True, alpha=0.3)\n",
    "\n",
    "# First 20 seconds (demo window)\n",
    "mask_20s = time <= 20\n",
    "axes[1].plot(time[mask_20s], kinetics['Fz'][mask_20s], label='Left Force Plate', color='blue', alpha=0.7)\n",
    "axes[1].plot(time[mask_20s], kinetics['Fz.1'][mask_20s], label='Right Force Plate', color='red', alpha=0.7)\n",
    "axes[1].set_ylabel('Vertical Force (N)')\n",
    "axes[1].set_xlabel('Time (seconds)')\n",
    "axes[1].set_title('Force Plates - First 20 Seconds (Demo Window)')\n",
    "axes[1].legend()\n",
    "axes[1].grid(True, alpha=0.3)\n",
    "\n",
    "plt.tight_layout()\n",
    "plt.show()\n",
    "\n",
    "# Basic statistics\n",
    "print(\"Force Plate Statistics (first 20s):\")\n",
    "print(f\"Left plate - Max: {kinetics['Fz'][mask_20s].max():.1f}N, Mean: {kinetics['Fz'][mask_20s].mean():.1f}N\")\n",
    "print(f\"Right plate - Max: {kinetics['Fz.1'][mask_20s].max():.1f}N, Mean: {kinetics['Fz.1'][mask_20s].mean():.1f}N\")"
   ]
  },
  {
   "cell_type": "markdown",
   "metadata": {},
   "source": [
    "## 4. Kinematic Marker Analysis"
   ]
  },
  {
   "cell_type": "code",
   "execution_count": null,
   "metadata": {},
   "outputs": [],
   "source": [
    "# Analyze key kinematic markers\n",
    "kinematics = synchronized_data['kinematics']\n",
    "\n",
    "# Identify available markers\n",
    "print(\"Available kinematic markers:\")\n",
    "marker_cols = [col for col in kinematics.columns if 'S12:' in col]\n",
    "print(f\"Total markers: {len(marker_cols)}\")\n",
    "print(\"Key markers for gait events:\")\n",
    "key_markers = ['S12:RTOE', 'S12:RCAL', 'S12:LTOE', 'S12:LCAL']\n",
    "for marker in key_markers:\n",
    "    if marker in kinematics.columns:\n",
    "        print(f\"  ✓ {marker}\")\n",
    "    else:\n",
    "        print(f\"  ✗ {marker} (not found)\")\n",
    "\n",
    "# Plot key markers (first 20 seconds)\n",
    "fig, ax = plt.subplots(figsize=(15, 6))\n",
    "\n",
    "mask_20s = kinematics['time'] <= 20\n",
    "time_20s = kinematics['time'][mask_20s]\n",
    "\n",
    "marker_colors = {'S12:RTOE': 'red', 'S12:RCAL': 'darkred', 'S12:LTOE': 'blue', 'S12:LCAL': 'darkblue'}\n",
    "marker_labels = {'S12:RTOE': 'Right Toe', 'S12:RCAL': 'Right Heel', 'S12:LTOE': 'Left Toe', 'S12:LCAL': 'Left Heel'}\n",
    "\n",
    "for marker in key_markers:\n",
    "    if marker in kinematics.columns:\n",
    "        ax.plot(time_20s, kinematics[marker][mask_20s], \n",
    "               label=marker_labels[marker], color=marker_colors[marker], alpha=0.8)\n",
    "\n",
    "ax.set_ylabel('Vertical Position (mm)')\n",
    "ax.set_xlabel('Time (seconds)')\n",
    "ax.set_title('Key Kinematic Markers - Vertical Positions')\n",
    "ax.legend()\n",
    "ax.grid(True, alpha=0.3)\n",
    "\n",
    "plt.tight_layout()\n",
    "plt.show()"
   ]
  },
  {
   "cell_type": "markdown",
   "metadata": {},
   "source": [
    "## 5. EMG Analysis"
   ]
  },
  {
   "cell_type": "code",
   "execution_count": null,
   "metadata": {},
   "outputs": [],
   "source": [
    "# Compute and visualize EMG envelopes\n",
    "emg_envelopes = compute_emg_envelopes(synchronized_data['emg'], window_ms=50.0, sampling_rate=1000)\n",
    "\n",
    "print(f\"EMG envelopes computed for {len(emg_envelopes.columns)-1} channels\")\n",
    "\n",
    "# Plot first 4 EMG envelopes (first 20 seconds)\n",
    "fig, ax = plt.subplots(figsize=(15, 6))\n",
    "\n",
    "envelope_cols = [col for col in emg_envelopes.columns if 'envelope' in col][:4]\n",
    "colors = plt.cm.tab10(np.linspace(0, 1, len(envelope_cols)))\n",
    "\n",
    "mask_20s = emg_envelopes['time'] <= 20\n",
    "time_20s = emg_envelopes['time'][mask_20s]\n",
    "\n",
    "for i, col in enumerate(envelope_cols):\n",
    "    ax.plot(time_20s, emg_envelopes[col][mask_20s], \n",
    "           label=col.replace('_envelope', ''), color=colors[i], alpha=0.7)\n",
    "\n",
    "ax.set_ylabel('EMG Amplitude (V)')\n",
    "ax.set_xlabel('Time (seconds)')\n",
    "ax.set_title('EMG Envelopes - First 4 Channels')\n",
    "ax.legend()\n",
    "ax.grid(True, alpha=0.3)\n",
    "\n",
    "plt.tight_layout()\n",
    "plt.show()\n",
    "\n",
    "print(\"\\nEMG channels available:\")\n",
    "for i, col in enumerate(envelope_cols[:8]):  # Show first 8\n",
    "    print(f\"  {i+1}. {col.replace('_envelope', '')}\")\n",
    "if len(envelope_cols) > 8:\n",
    "    print(f\"  ... and {len(envelope_cols)-8} more channels\")"
   ]
  },
  {
   "cell_type": "markdown",
   "metadata": {},
   "source": [
    "## 6. Constrained Gait Pattern Analysis"
   ]
  },
  {
   "cell_type": "code",
   "execution_count": null,
   "metadata": {},
   "outputs": [],
   "source": [
    "# Create specialized constrained gait visualization\n",
    "fig = create_constrained_gait_plot(synchronized_data, time_window=20.0)\n",
    "plt.show()\n",
    "\n",
    "# Quantify asymmetry\n",
    "mask_20s = kinetics['time'] <= 20\n",
    "left_force = np.abs(kinetics['Fz'][mask_20s])\n",
    "right_force = np.abs(kinetics['Fz.1'][mask_20s])\n",
    "\n",
    "# Calculate overall asymmetry metrics\n",
    "left_total = np.sum(left_force)\n",
    "right_total = np.sum(right_force)\n",
    "asymmetry_ratio = right_total / (left_total + right_total)\n",
    "\n",
    "print(\"\\nConstraint Analysis (first 20 seconds):\")\n",
    "print(f\"Left leg loading: {left_total:.0f} N·s\")\n",
    "print(f\"Right leg loading: {right_total:.0f} N·s\")\n",
    "print(f\"Right leg bias: {asymmetry_ratio:.1%}\")\n",
    "print(f\"Expected: ~70-80% right bias due to left leg constraint\")"
   ]
  },
  {
   "cell_type": "markdown",
   "metadata": {},
   "source": [
    "## 7. Data Quality Assessment"
   ]
  },
  {
   "cell_type": "code",
   "execution_count": null,
   "metadata": {},
   "outputs": [],
   "source": [
    "# Assess data quality for annotation\n",
    "print(\"Data Quality Assessment for Ground Truth Annotation\")\n",
    "print(\"=\"*60)\n",
    "\n",
    "# Check for missing data\n",
    "for modality, df in synchronized_data.items():\n",
    "    missing_pct = (df.isnull().sum().sum() / (len(df) * len(df.columns))) * 100\n",
    "    print(f\"{modality.capitalize():12} - Missing data: {missing_pct:.2f}%\")\n",
    "\n",
    "print()\n",
    "\n",
    "# Signal quality indicators\n",
    "kinetics_20s = kinetics[kinetics['time'] <= 20]\n",
    "\n",
    "# Force plate signal-to-noise ratio\n",
    "left_snr = np.std(kinetics_20s['Fz']) / np.std(kinetics_20s['Fz'][:1000])  # First second as noise estimate\n",
    "right_snr = np.std(kinetics_20s['Fz.1']) / np.std(kinetics_20s['Fz.1'][:1000])\n",
    "\n",
    "print(f\"Force plate signal quality:\")\n",
    "print(f\"  Left plate SNR:  {left_snr:.1f}\")\n",
    "print(f\"  Right plate SNR: {right_snr:.1f}\")\n",
    "print(f\"  Status: {'✓ Good' if min(left_snr, right_snr) > 5 else '⚠ Check quality'}\")\n",
    "\n",
    "print()\n",
    "\n",
    "# Estimate number of gait cycles\n",
    "# Simple peak detection on right force plate\n",
    "from scipy.signal import find_peaks\n",
    "\n",
    "peaks, _ = find_peaks(kinetics_20s['Fz.1'], height=100, distance=500)  # Min 0.5s between peaks\n",
    "estimated_cycles = len(peaks)\n",
    "estimated_events = estimated_cycles * 4  # 4 events per cycle (2 legs × 2 events)\n",
    "\n",
    "print(f\"Estimated gait characteristics:\")\n",
    "print(f\"  Gait cycles (right leg): {estimated_cycles}\")\n",
    "print(f\"  Expected total events: {estimated_events}\")\n",
    "print(f\"  Cadence: {estimated_cycles / 20 * 60:.1f} steps/min\")\n",
    "\n",
    "print()\n",
    "print(\"Recommendation: Data quality is suitable for ground truth annotation\")\n",
    "print(f\"Target: Annotate ~{estimated_events} events over 20-second window\")"
   ]
  },
  {
   "cell_type": "markdown",
   "metadata": {},
   "source": [
    "## Summary\n",
    "\n",
    "This exploration confirms:\n",
    "\n",
    "1. **Multi-modal data is properly synchronized** to 1000 Hz timeline\n",
    "2. **Clear constrained gait patterns** with right leg compensation\n",
    "3. **Good signal quality** across all modalities\n",
    "4. **Identifiable gait events** in force and kinematic data\n",
    "5. **Suitable for manual annotation** with expected ~40-50 events\n",
    "\n",
    "**Next Step**: Proceed to interactive annotation in notebook `02_annotation_tool.ipynb`"
   ]
  }
 ],
 "metadata": {
  "kernelspec": {
   "display_name": "Python 3",
   "language": "python",
   "name": "python3"
  },
  "language_info": {
   "codemirror_mode": {
    "name": "ipython",
    "version": 3
   },
   "file_extension": ".py",
   "mimetype": "text/x-python",
   "name": "python",
   "nbconvert_exporter": "python",
   "pygments_lexer": "ipython3",
   "version": "3.13.5"
  }
 },
 "nbformat": 4,
 "nbformat_minor": 4
}