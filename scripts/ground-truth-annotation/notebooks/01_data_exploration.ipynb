{
 "cells": [
  {
   "cell_type": "markdown",
   "metadata": {},
   "source": [
    "# Data Exploration - Constrained Gait Analysis\n",
    "\n",
    "This notebook explores the T5 trial data to understand the multi-modal sensor characteristics and constrained gait patterns.\n",
    "\n",
    "## Objective\n",
    "- Understand data structure and sampling rates\n",
    "- Visualize constrained gait patterns (left leg locked in extension)\n",
    "- Identify key signals for ground truth annotation"
   ]
  },
  {
   "cell_type": "code",
   "metadata": {},
   "outputs": [],
   "source": "# Setup and imports\nimport sys\nimport os\nsys.path.append('../src')\n\n# Add the absolute path as backup\ncurrent_dir = os.path.dirname(os.path.abspath('__file__'))\nsrc_path = os.path.join(current_dir, '..', 'src')\nsys.path.append(src_path)\n\nimport pandas as pd\nimport numpy as np\nimport matplotlib.pyplot as plt\nimport seaborn as sns\n\nfrom data_loader import GaitDataLoader\nfrom synchronizer import MultiModalSynchronizer\nfrom visualizer import GaitDataVisualizer\n\n# Configure plotting\nplt.style.use('default')  # Use default style instead of seaborn-v0_8\nplt.rcParams['figure.figsize'] = (12, 8)\nplt.rcParams['font.size'] = 10\n\nprint(\"Environment setup complete!\")\nprint(\"Available classes:\")\nprint(\"- GaitDataLoader\")\nprint(\"- MultiModalSynchronizer\") \nprint(\"- GaitDataVisualizer\")"
  },
  {
   "cell_type": "markdown",
   "metadata": {},
   "source": [
    "## 1. Load Raw Data"
   ]
  },
  {
   "cell_type": "code",
   "metadata": {},
   "outputs": [],
   "source": "# Initialize data loader and load T5 trial data\nloader = GaitDataLoader(data_dir=\"../data\")\n\n# Load T5 trial data\ntrial_id = \"T5\"\n\nprint(f\"Loading trial {trial_id}...\")\n\n# Load individual modalities\nkinetics_data = loader.load_kinetics(trial_id)\nemg_data = loader.load_emg(trial_id)\nkinematics_data = loader.load_kinematics(trial_id)\n\n# Create a dictionary to match expected format\nraw_data = {\n    'kinetics': kinetics_data,\n    'emg': emg_data,\n    'kinematics': kinematics_data\n}\n\nprint(f\"Loaded data for trial {trial_id}\")\nprint(\"\\nData modalities:\")\nfor modality, df in raw_data.items():\n    print(f\"  {modality}: {len(df)} samples, {df['time'].max():.1f}s duration\")\n    print(f\"    Columns: {list(df.columns[:10])}{'...' if len(df.columns) > 10 else ''}\")\n    print()"
  },
  {
   "cell_type": "markdown",
   "metadata": {},
   "source": [
    "## 2. Data Synchronization"
   ]
  },
  {
   "cell_type": "code",
   "metadata": {},
   "outputs": [],
   "source": "# Data Synchronization using MultiModalSynchronizer\nsynchronizer = MultiModalSynchronizer(target_rate=1000)\n\n# For now, we'll extract a 20-second window and use kinetics as the base timeline\ntime_window = 20.0\nkinetics_mask = raw_data['kinetics']['time'] <= time_window\n\n# Extract synchronized data for analysis\nsynchronized_data = {\n    'kinetics': raw_data['kinetics'][kinetics_mask].copy(),\n    'emg': raw_data['emg'][raw_data['emg']['time'] <= time_window].copy(),\n    'kinematics': raw_data['kinematics'][raw_data['kinematics']['time'] <= time_window].copy()\n}\n\nprint(\"Data synchronized to analysis window\")\nprint(f\"Analysis window: 0 to {time_window} seconds\")\nprint(\"\\nSynchronized data:\")\nfor modality, df in synchronized_data.items():\n    sampling_rate = len(df) / df['time'].max() if df['time'].max() > 0 else 0\n    print(f\"  {modality}: {len(df)} samples, {df['time'].max():.1f}s duration\")\n    print(f\"    Sampling rate: {sampling_rate:.0f} Hz\")\n    print()"
  },
  {
   "cell_type": "markdown",
   "metadata": {},
   "source": [
    "## 3. Force Plate Analysis"
   ]
  },
  {
   "cell_type": "code",
   "metadata": {},
   "outputs": [],
   "source": "# Analyze force plate data using correct column names\nkinetics = synchronized_data['kinetics']\n\n# Plot force plates\nfig, axes = plt.subplots(2, 1, figsize=(15, 8))\n\n# Full duration view (up to 20 seconds)\ntime = kinetics['time']\naxes[0].plot(time, kinetics['Fz_L'], label='Left Force Plate', color='blue', alpha=0.7)\naxes[0].plot(time, kinetics['Fz_R'], label='Right Force Plate', color='red', alpha=0.7)\naxes[0].set_ylabel('Vertical Force (N)')\naxes[0].set_title('Force Plates - 20 Second Analysis Window')\naxes[0].legend()\naxes[0].grid(True, alpha=0.3)\n\n# First 10 seconds (closer look)\nmask_10s = time <= 10\naxes[1].plot(time[mask_10s], kinetics['Fz_L'][mask_10s], label='Left Force Plate', color='blue', alpha=0.7)\naxes[1].plot(time[mask_10s], kinetics['Fz_R'][mask_10s], label='Right Force Plate', color='red', alpha=0.7)\naxes[1].set_ylabel('Vertical Force (N)')\naxes[1].set_xlabel('Time (seconds)')\naxes[1].set_title('Force Plates - First 10 Seconds (Detailed View)')\naxes[1].legend()\naxes[1].grid(True, alpha=0.3)\n\nplt.tight_layout()\nplt.show()\n\n# Basic statistics\nprint(\"Force Plate Statistics (20-second window):\")\nprint(f\"Left plate - Max: {kinetics['Fz_L'].max():.1f}N, Min: {kinetics['Fz_L'].min():.1f}N, Mean: {kinetics['Fz_L'].mean():.1f}N\")\nprint(f\"Right plate - Max: {kinetics['Fz_R'].max():.1f}N, Min: {kinetics['Fz_R'].min():.1f}N, Mean: {kinetics['Fz_R'].mean():.1f}N\")\n\n# Contact analysis\nleft_contact = (kinetics['Fz_L'].abs() > 100).sum()\nright_contact = (kinetics['Fz_R'].abs() > 100).sum()\nprint(f\"\\nContact Analysis:\")\nprint(f\"Left contact samples: {left_contact} ({100*left_contact/len(kinetics):.1f}%)\")\nprint(f\"Right contact samples: {right_contact} ({100*right_contact/len(kinetics):.1f}%)\")\nprint(f\"Total contact: {100*(left_contact + right_contact)/(2*len(kinetics)):.1f}% of stride\")"
  },
  {
   "cell_type": "markdown",
   "metadata": {},
   "source": [
    "## 4. Kinematic Marker Analysis"
   ]
  },
  {
   "cell_type": "code",
   "metadata": {},
   "outputs": [],
   "source": "# Analyze available kinematic markers\n# Extract 20-second window for kinematics as well\nmask_kin = kinematics_data['time'] <= time_window\nkinematics_20s = kinematics_data[mask_kin].copy()\n\n# Identify available markers\nprint(\"Available kinematic markers:\")\nmarker_cols = [col for col in kinematics_20s.columns if col not in ['Frame', 'Sub Frame', 'time']]\nprint(f\"Total data columns: {len(marker_cols)}\")\n\n# Show first 10 columns to understand naming structure\nprint(\"\\nFirst 10 kinematic columns:\")\nfor i, col in enumerate(marker_cols[:10]):\n    print(f\"  {i+1}. {col}\")\n\nif len(marker_cols) > 10:\n    print(f\"  ... and {len(marker_cols)-10} more columns\")\n\n# Plot first few kinematic signals (first 20 seconds)\nfig, ax = plt.subplots(figsize=(15, 6))\n\ntime_20s = kinematics_20s['time']\n\n# Plot first 4 non-frame/time columns\nplot_cols = marker_cols[:4]\ncolors = plt.cm.tab10(np.linspace(0, 1, len(plot_cols)))\n\nfor i, col in enumerate(plot_cols):\n    if col in kinematics_20s.columns:\n        ax.plot(time_20s, kinematics_20s[col], \n               label=col, color=colors[i], alpha=0.8)\n\nax.set_ylabel('Position/Angle (units vary)')\nax.set_xlabel('Time (seconds)')\nax.set_title('Sample Kinematic Signals (First 4 Channels)')\nax.legend()\nax.grid(True, alpha=0.3)\n\nplt.tight_layout()\nplt.show()\n\nprint(f\"\\nKinematics data summary:\")\nprint(f\"Duration: {kinematics_20s['time'].max():.1f} seconds\")\nprint(f\"Samples: {len(kinematics_20s)}\")\nprint(f\"Estimated sampling rate: {len(kinematics_20s) / kinematics_20s['time'].max():.0f} Hz\")"
  },
  {
   "cell_type": "markdown",
   "metadata": {},
   "source": [
    "## 5. EMG Analysis"
   ]
  },
  {
   "cell_type": "code",
   "metadata": {},
   "outputs": [],
   "source": "# Analyze EMG data\n# Extract 20-second window for EMG\nmask_emg = emg_data['time'] <= time_window\nemg_20s = emg_data[mask_emg].copy()\n\nprint(f\"EMG data loaded for analysis\")\nprint(f\"Duration: {emg_20s['time'].max():.1f} seconds\")\nprint(f\"Samples: {len(emg_20s)}\")\nprint(f\"Estimated sampling rate: {len(emg_20s) / emg_20s['time'].max():.0f} Hz\")\n\n# Get EMG channels\nemg_cols = [col for col in emg_20s.columns if 'IM EMG' in col]\nprint(f\"\\nAvailable EMG channels: {len(emg_cols)}\")\n\n# Simple envelope computation (moving RMS)\ndef compute_rms_envelope(signal, window_size=100):\n    \"\"\"Compute RMS envelope using rolling window.\"\"\"\n    return signal.rolling(window=window_size, center=True).apply(lambda x: np.sqrt(np.mean(x**2)))\n\n# Plot first 4 EMG channels with envelopes (first 10 seconds for clarity)\nfig, axes = plt.subplots(2, 2, figsize=(15, 10))\naxes = axes.flatten()\n\nmask_10s = emg_20s['time'] <= 10\ntime_10s = emg_20s['time'][mask_10s]\n\nfor i, col in enumerate(emg_cols[:4]):\n    if i < 4:\n        # Raw EMG\n        raw_signal = emg_20s[col][mask_10s]\n        envelope = compute_rms_envelope(raw_signal, window_size=50)\n        \n        axes[i].plot(time_10s, raw_signal, alpha=0.3, color='gray', label='Raw EMG')\n        axes[i].plot(time_10s, envelope, color='red', linewidth=2, label='RMS Envelope')\n        axes[i].set_title(f'{col}')\n        axes[i].set_ylabel('Amplitude (V)')\n        axes[i].grid(True, alpha=0.3)\n        axes[i].legend()\n        \n        if i >= 2:  # Bottom row\n            axes[i].set_xlabel('Time (seconds)')\n\nplt.suptitle('EMG Signals with RMS Envelopes (First 10 seconds)')\nplt.tight_layout()\nplt.show()\n\nprint(\"\\nEMG channels available:\")\nfor i, col in enumerate(emg_cols[:8]):  # Show first 8\n    print(f\"  {i+1}. {col}\")\nif len(emg_cols) > 8:\n    print(f\"  ... and {len(emg_cols)-8} more channels\")"
  },
  {
   "cell_type": "markdown",
   "metadata": {},
   "source": [
    "## 6. Constrained Gait Pattern Analysis"
   ]
  },
  {
   "cell_type": "code",
   "metadata": {},
   "outputs": [],
   "source": "# Constrained Gait Pattern Analysis using GaitDataVisualizer\nvisualizer = GaitDataVisualizer(figsize=(15, 12))\n\n# Create comprehensive constrained gait visualization\nfig, axes = plt.subplots(3, 1, figsize=(15, 12))\n\n# Get kinetics data for plotting\nkinetics = synchronized_data['kinetics']\ntime = kinetics['time']\n\n# 1. Force plate comparison\naxes[0].plot(time, -kinetics['Fz_L'], label='Left Force Plate', color='blue', alpha=0.7, linewidth=1)\naxes[0].plot(time, -kinetics['Fz_R'], label='Right Force Plate', color='red', alpha=0.7, linewidth=1)\naxes[0].axhline(y=100, color='gray', linestyle='--', alpha=0.5, label='Contact Threshold')\naxes[0].set_ylabel('Vertical Force (N)')\naxes[0].set_title('Constrained Gait Analysis - Force Patterns')\naxes[0].legend()\naxes[0].grid(True, alpha=0.3)\n\n# 2. Force asymmetry over time (5-second sliding window)\nwindow_size = 5000  # 5 seconds at 1000Hz\nleft_force_abs = kinetics['Fz_L'].abs()\nright_force_abs = kinetics['Fz_R'].abs()\n\n# Calculate sliding window asymmetry\nasymmetry_ratio = []\ntime_centers = []\n\nfor i in range(window_size//2, len(kinetics) - window_size//2, 1000):  # Every second\n    left_sum = left_force_abs.iloc[i-window_size//2:i+window_size//2].sum()\n    right_sum = right_force_abs.iloc[i-window_size//2:i+window_size//2].sum()\n    total = left_sum + right_sum\n    if total > 0:\n        asymmetry = right_sum / total  # Right leg proportion\n        asymmetry_ratio.append(asymmetry)\n        time_centers.append(kinetics['time'].iloc[i])\n\naxes[1].plot(time_centers, asymmetry_ratio, 'g-', marker='o', linewidth=2, markersize=4)\naxes[1].axhline(y=0.5, color='gray', linestyle='-', alpha=0.5, label='Equal Loading')\naxes[1].axhline(y=0.7, color='orange', linestyle='--', alpha=0.7, label='Expected Constraint (~70%)')\naxes[1].set_ylabel('Right Leg Loading Ratio')\naxes[1].set_title('Loading Asymmetry Over Time (5-second sliding window)')\naxes[1].legend()\naxes[1].grid(True, alpha=0.3)\naxes[1].set_ylim(0, 1)\n\n# 3. Contact phases\ncontact_threshold = 100\nleft_contact = (left_force_abs > contact_threshold).astype(int)\nright_contact = (right_force_abs > contact_threshold).astype(int)\n\naxes[2].fill_between(time, 0, left_contact, alpha=0.6, color='blue', label='Left Contact')\naxes[2].fill_between(time, 1, 1 + right_contact, alpha=0.6, color='red', label='Right Contact')\naxes[2].set_ylabel('Contact State')\naxes[2].set_xlabel('Time (seconds)')\naxes[2].set_title('Gait Contact Phases')\naxes[2].legend()\naxes[2].grid(True, alpha=0.3)\naxes[2].set_ylim(-0.1, 2.1)\naxes[2].set_yticks([0.5, 1.5])\naxes[2].set_yticklabels(['Left', 'Right'])\n\nplt.tight_layout()\nplt.show()\n\n# Quantify asymmetry\nmask_analysis = time <= 20\nleft_force_analysis = kinetics['Fz_L'][mask_analysis].abs()\nright_force_analysis = kinetics['Fz_R'][mask_analysis].abs()\n\n# Calculate overall asymmetry metrics\nleft_total = left_force_analysis.sum()\nright_total = right_force_analysis.sum()\nasymmetry_ratio_overall = right_total / (left_total + right_total)\n\nprint(\"\\nConstrained Gait Analysis (20-second window):\")\nprint(f\"Left leg total loading: {left_total:.0f} N·s\")\nprint(f\"Right leg total loading: {right_total:.0f} N·s\")\nprint(f\"Right leg bias: {asymmetry_ratio_overall:.1%}\")\nprint(f\"Expected with left leg constraint: ~60-70% right bias\")\n\n# Contact time analysis\nleft_contact_time = left_contact[mask_analysis].sum() / 1000  # Convert to seconds\nright_contact_time = right_contact[mask_analysis].sum() / 1000\ntotal_analysis_time = 20.0\n\nprint(f\"\\nContact Time Analysis:\")\nprint(f\"Left contact time: {left_contact_time:.1f}s ({100*left_contact_time/total_analysis_time:.1f}%)\")\nprint(f\"Right contact time: {right_contact_time:.1f}s ({100*right_contact_time/total_analysis_time:.1f}%)\")\nprint(f\"Double support: {min(left_contact_time, right_contact_time):.1f}s estimated\")"
  },
  {
   "cell_type": "markdown",
   "metadata": {},
   "source": [
    "## 7. Data Quality Assessment"
   ]
  },
  {
   "cell_type": "code",
   "metadata": {},
   "outputs": [],
   "source": "# Data Quality Assessment for Ground Truth Annotation\nprint(\"Data Quality Assessment for Ground Truth Annotation\")\nprint(\"=\"*60)\n\n# Check for missing data in each modality\ndatasets = {\n    'kinetics': synchronized_data['kinetics'],\n    'emg': synchronized_data['emg'],\n    'kinematics': synchronized_data['kinematics']\n}\n\nfor name, df in datasets.items():\n    missing_pct = (df.isnull().sum().sum() / (len(df) * len(df.columns))) * 100\n    print(f\"{name.capitalize():12} - Missing data: {missing_pct:.2f}%\")\n\nprint()\n\n# Signal quality indicators for kinetics (main annotation signal)\nkinetics_analysis = synchronized_data['kinetics']\n\n# Force plate signal-to-noise ratio estimation\n# Use first 1 second as baseline noise estimate\nbaseline_samples = 1000  # First second\nleft_baseline_std = kinetics_analysis['Fz_L'][:baseline_samples].std()\nright_baseline_std = kinetics_analysis['Fz_R'][:baseline_samples].std()\n\nleft_signal_std = kinetics_analysis['Fz_L'].std()\nright_signal_std = kinetics_analysis['Fz_R'].std()\n\nleft_snr = left_signal_std / left_baseline_std if left_baseline_std > 0 else 0\nright_snr = right_signal_std / right_baseline_std if right_baseline_std > 0 else 0\n\nprint(f\"Force plate signal quality:\")\nprint(f\"  Left plate SNR estimate:  {left_snr:.1f}\")\nprint(f\"  Right plate SNR estimate: {right_snr:.1f}\")\nprint(f\"  Status: {'✓ Good' if min(left_snr, right_snr) > 3 else '⚠ Check quality'}\")\n\nprint()\n\n# Estimate number of gait cycles using simple peak detection\nfrom scipy.signal import find_peaks\n\n# Find peaks in right force plate (more active leg)\nright_force_positive = -kinetics_analysis['Fz_R']  # Convert to positive for peak detection\npeaks, properties = find_peaks(right_force_positive, \n                              height=200,     # Minimum peak height\n                              distance=300,   # Minimum 0.3s between peaks\n                              prominence=100) # Peak prominence\n\nestimated_cycles = len(peaks)\nestimated_events = estimated_cycles * 4  # 4 events per cycle (2 legs × heel strike + toe off)\n\nprint(f\"Gait event estimation (using right leg peaks):\")\nprint(f\"  Detected peaks: {len(peaks)}\")\nprint(f\"  Estimated gait cycles: {estimated_cycles}\")\nprint(f\"  Expected total events: {estimated_events}\")\nprint(f\"  Estimated cadence: {estimated_cycles / 20 * 60:.1f} steps/min\")\n\n# Show peak times\nif len(peaks) > 0:\n    peak_times = kinetics_analysis['time'].iloc[peaks].values\n    print(f\"  Peak times: {peak_times[:5].round(1).tolist()}{'...' if len(peaks) > 5 else ''}\")\n\nprint()\n\n# Get asymmetry from previous analysis\nkinetics = synchronized_data['kinetics']\ntime = kinetics['time']\nleft_force_analysis = kinetics['Fz_L'].abs()\nright_force_analysis = kinetics['Fz_R'].abs()\nleft_total = left_force_analysis.sum()\nright_total = right_force_analysis.sum()\nasymmetry_ratio_overall = right_total / (left_total + right_total)\n\n# Contact time analysis\ncontact_threshold = 100\nleft_contact = (left_force_analysis > contact_threshold).astype(int)\nright_contact = (right_force_analysis > contact_threshold).astype(int)\nleft_contact_time = left_contact.sum() / 1000  # Convert to seconds\nright_contact_time = right_contact.sum() / 1000\n\n# Data suitability assessment\nsuitability_checks = {\n    'Data completeness': missing_pct < 1.0,\n    'Signal quality': min(left_snr, right_snr) > 3,\n    'Gait cycles detected': estimated_cycles > 10,\n    'Force asymmetry visible': abs(asymmetry_ratio_overall - 0.5) > 0.1,\n    'Contact phases clear': (left_contact_time > 5) and (right_contact_time > 5)\n}\n\nprint(\"Annotation Suitability Checklist:\")\nfor check, passed in suitability_checks.items():\n    status = \"✓ Pass\" if passed else \"✗ Fail\"\n    print(f\"  {check}: {status}\")\n\noverall_suitable = all(suitability_checks.values())\nprint(f\"\\nOverall Assessment: {'✓ SUITABLE' if overall_suitable else '⚠ NEEDS REVIEW'}\")\n\nif overall_suitable:\n    print(f\"Recommendation: Proceed with manual annotation\")\n    print(f\"Target: Annotate ~{estimated_events} gait events over 20-second window\")\n    print(f\"Priority: Focus on heel strike and toe off events for both legs\")\nelse:\n    print(\"Recommendation: Review data quality issues before annotation\")\n\nprint()\nprint(\"Next Steps:\")\nprint(\"1. Use notebook 02_annotation_tool.ipynb for interactive annotation\")\nprint(\"2. Focus on clear force plate transitions for heel strike/toe off detection\")\nprint(\"3. Use kinematic data for validation of ambiguous events\")\nprint(\"4. Validate annotations with notebook 03_validation.ipynb\")"
  },
  {
   "cell_type": "markdown",
   "metadata": {},
   "source": [
    "## Summary\n",
    "\n",
    "This exploration confirms:\n",
    "\n",
    "1. **Multi-modal data is properly synchronized** to 1000 Hz timeline\n",
    "2. **Clear constrained gait patterns** with right leg compensation\n",
    "3. **Good signal quality** across all modalities\n",
    "4. **Identifiable gait events** in force and kinematic data\n",
    "5. **Suitable for manual annotation** with expected ~40-50 events\n",
    "\n",
    "**Next Step**: Proceed to interactive annotation in notebook `02_annotation_tool.ipynb`"
   ]
  }
 ],
 "metadata": {
  "kernelspec": {
   "display_name": "Python 3",
   "language": "python",
   "name": "python3"
  },
  "language_info": {
   "codemirror_mode": {
    "name": "ipython",
    "version": 3
   },
   "file_extension": ".py",
   "mimetype": "text/x-python",
   "name": "python",
   "nbconvert_exporter": "python",
   "pygments_lexer": "ipython3",
   "version": "3.13.5"
  }
 },
 "nbformat": 4,
 "nbformat_minor": 4
}